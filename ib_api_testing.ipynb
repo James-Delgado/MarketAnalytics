{
 "cells": [
  {
   "cell_type": "code",
   "execution_count": 30,
   "metadata": {},
   "outputs": [],
   "source": [
    "from ibapi.client import EClient\n",
    "from ibapi.wrapper import EWrapper"
   ]
  },
  {
   "cell_type": "code",
   "execution_count": 31,
   "metadata": {},
   "outputs": [],
   "source": [
    "from ibapi.contract import Contract\n",
    "from ibapi.order import *\n",
    "import threading\n",
    "import time"
   ]
  },
  {
   "cell_type": "code",
   "execution_count": 32,
   "metadata": {},
   "outputs": [],
   "source": [
    "class IBApi(EWrapper, EClient):\n",
    "    def __init__(self):\n",
    "        EClient.__init__(self, self)\n",
    "        \n",
    "    def realTimeBar(self, reqId, time, open_, high, low, close, volume, wap, count):\n",
    "        bot.on_bar_update(reqId, time, open_, high, low, close, volume, wap, count)"
   ]
  },
  {
   "cell_type": "code",
   "execution_count": 39,
   "metadata": {},
   "outputs": [],
   "source": [
    "class Bot():\n",
    "    ib = None\n",
    "    \n",
    "    def __init__(self):\n",
    "        self.ib = IBapi()\n",
    "        self.ib.connect('127.0.0.1', 4001, 999)\n",
    "        \n",
    "        ib_thread = threading.Thread(target=self.run_loop, daemon=True)\n",
    "        ib_thread.start()\n",
    "        time.sleep(1)\n",
    "        \n",
    "        #get symbol\n",
    "        symbol = input(\"Enter symbol to observe: \")\n",
    "        #create contract object\n",
    "        contract = Contract()\n",
    "        contract.symbol = symbol.upper()\n",
    "        contract.secType = \"STK\"\n",
    "        contract.exchange = \"SMART\"\n",
    "        contract.currency = \"USD\"\n",
    "        \n",
    "        #make market data request\n",
    "        self.ib.reqRealTimeBars(0, contract, 5, \"TRADES\", 1, [])\n",
    "        \n",
    "    #listen to socket in separate thread\n",
    "    def run_loop(self):\n",
    "        self.ib.run()\n",
    "        \n",
    "    def on_bar_update(self, reqId, time, open_, high, low, close, volume, wap, count):\n",
    "        print(close)"
   ]
  },
  {
   "cell_type": "code",
   "execution_count": 40,
   "metadata": {},
   "outputs": [
    {
     "name": "stderr",
     "output_type": "stream",
     "text": [
      "ERROR -1 2158 Sec-def data farm connection is OK:secdefil\n"
     ]
    },
    {
     "name": "stdin",
     "output_type": "stream",
     "text": [
      "Enter symbol to observe:  AAPL\n"
     ]
    },
    {
     "name": "stderr",
     "output_type": "stream",
     "text": [
      "ERROR -1 2106 HMDS data farm connection is OK:ushmds\n",
      "ERROR -1 2106 HMDS data farm connection is OK:ushmds\n",
      "ERROR 0 420 Invalid Real-time Query:No market data permissions for ISLAND STK. Requested market data requires additional subscription for API. See link in 'Market Data Connections' dialog for more details.\n",
      "ERROR -1 2107 HMDS data farm connection is inactive but should be available upon demand.ushmds\n"
     ]
    }
   ],
   "source": [
    "bot = Bot()"
   ]
  },
  {
   "cell_type": "code",
   "execution_count": null,
   "metadata": {},
   "outputs": [],
   "source": []
  }
 ],
 "metadata": {
  "kernelspec": {
   "display_name": "Python 3",
   "language": "python",
   "name": "python3"
  },
  "language_info": {
   "codemirror_mode": {
    "name": "ipython",
    "version": 3
   },
   "file_extension": ".py",
   "mimetype": "text/x-python",
   "name": "python",
   "nbconvert_exporter": "python",
   "pygments_lexer": "ipython3",
   "version": "3.8.3"
  }
 },
 "nbformat": 4,
 "nbformat_minor": 4
}
